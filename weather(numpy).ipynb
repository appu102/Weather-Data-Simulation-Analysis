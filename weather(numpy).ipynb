{
 "cells": [
  {
   "cell_type": "markdown",
   "id": "0311211d-4248-4d14-a0a5-4b95c2d95589",
   "metadata": {},
   "source": [
    "Weather plays a crucial role in agriculture, health, and daily life. Accurate detection of unusual temperature patterns (too hot or too cold) helps in climate monitoring, disaster preparedness, and data-driven decision making.\n",
    "\n",
    "In this project, we aim to:\n",
    "\n",
    "Simulate daily temperature data for a city over a 30-day period using NumPy.\n",
    "\n",
    "Calculate statistical measures such as minimum, maximum, and average temperature to understand overall weather conditions.\n",
    "\n",
    "Detect anomalies (outliers) in temperature readings using the Interquartile Range (IQR) method.\n",
    "\n",
    "An anomaly is defined as a temperature value lying outside the range [Q1 – 1.5 × IQR, Q3 + 1.5 × IQR].\n",
    "\n",
    "Highlight days with abnormal weather patterns, which could represent unexpected heatwaves or cold waves.\n",
    "\n",
    "The project demonstrates the use of NumPy for data simulation, statistical analysis, and anomaly detection, which are core tasks in data analytics and data science."
   ]
  },
  {
   "cell_type": "code",
   "execution_count": 2,
   "id": "9a6e001e-1d9b-4c4d-943e-c0b76844f865",
   "metadata": {},
   "outputs": [],
   "source": [
    "import numpy as np"
   ]
  },
  {
   "cell_type": "code",
   "execution_count": 3,
   "id": "7be013e6-a480-453c-9e28-ba74d9f0b55c",
   "metadata": {},
   "outputs": [],
   "source": [
    "## Simulate daily temperature data for a city over a 30-day period using NumPy."
   ]
  },
  {
   "cell_type": "code",
   "execution_count": 19,
   "id": "61f60975-accd-4ec2-8c57-a6c429d88b4b",
   "metadata": {},
   "outputs": [
    {
     "name": "stdout",
     "output_type": "stream",
     "text": [
      "[37.48 34.31 38.24 42.62 33.83 33.83 42.9  38.84 32.65 37.71 32.68 32.67\n",
      " 36.21 25.43 26.38 32.19 29.94 36.57 30.46 27.94 42.33 33.87 35.34 27.88\n",
      " 32.28 35.55 29.25 36.88 32.   33.54]\n"
     ]
    },
    {
     "ename": "TypeError",
     "evalue": "'str' object is not callable",
     "output_type": "error",
     "traceback": [
      "\u001b[1;31m---------------------------------------------------------------------------\u001b[0m",
      "\u001b[1;31mTypeError\u001b[0m                                 Traceback (most recent call last)",
      "Cell \u001b[1;32mIn[19], line 5\u001b[0m\n\u001b[0;32m      3\u001b[0m \u001b[38;5;28mprint\u001b[39m(temp)\n\u001b[0;32m      4\u001b[0m \u001b[38;5;66;03m# Calculate statistical measures such as minimum, maximum, and average temperature to understand overall weather conditions.\u001b[39;00m\n\u001b[1;32m----> 5\u001b[0m option \u001b[38;5;241m=\u001b[39m \u001b[38;5;28minput\u001b[39m(\u001b[38;5;124m\"\u001b[39m\u001b[38;5;124mSelect specific metric type \u001b[39m\u001b[38;5;124m'\u001b[39m\u001b[38;5;124mmin\u001b[39m\u001b[38;5;124m'\u001b[39m\u001b[38;5;124m or \u001b[39m\u001b[38;5;124m'\u001b[39m\u001b[38;5;124mmax\u001b[39m\u001b[38;5;124m'\u001b[39m\u001b[38;5;124m or \u001b[39m\u001b[38;5;124m'\u001b[39m\u001b[38;5;124mavg\u001b[39m\u001b[38;5;124m'\u001b[39m\u001b[38;5;124m \u001b[39m\u001b[38;5;124m\"\u001b[39m)\n\u001b[0;32m      6\u001b[0m \u001b[38;5;28;01mif\u001b[39;00m(option \u001b[38;5;241m==\u001b[39m \u001b[38;5;124m'\u001b[39m\u001b[38;5;124mmin\u001b[39m\u001b[38;5;124m'\u001b[39m):\n\u001b[0;32m      7\u001b[0m     \u001b[38;5;28mprint\u001b[39m(\u001b[38;5;124m'\u001b[39m\u001b[38;5;124mMinimum Temperature in 30 days in the city :\u001b[39m\u001b[38;5;124m'\u001b[39m,np\u001b[38;5;241m.\u001b[39mmin(temp))\n",
      "\u001b[1;31mTypeError\u001b[0m: 'str' object is not callable"
     ]
    }
   ],
   "source": [
    "np.random.seed(42)\n",
    "temp = np.random.normal(loc= 35,scale=5,size = 30).round(2)\n",
    "print(temp)\n",
    "# Calculate statistical measures such as minimum, maximum, and average temperature to understand overall weather conditions.\n",
    "option = input(\"Select specific metric type 'min' or 'max' or 'avg' \")\n",
    "if(option == 'min'):\n",
    "    print('Minimum Temperature in 30 days in the city :',np.min(temp))\n",
    "elif option =='max':\n",
    "    print('Maxmimum Temperature in 30 days in the city :',np.max(temp))\n",
    "elif option == 'avg':\n",
    "    print('Average Temperaturein 30 days in the city :',np.mean(temp))\n",
    "else:\n",
    "    print(\"select in the provided range only\")\n"
   ]
  },
  {
   "cell_type": "code",
   "execution_count": null,
   "id": "cd96b6d7-2237-4e50-ad6e-b44f12c8e3c7",
   "metadata": {},
   "outputs": [],
   "source": []
  },
  {
   "cell_type": "code",
   "execution_count": null,
   "id": "1c8c39f5-289b-4a48-9b95-c794ad5ee82c",
   "metadata": {},
   "outputs": [],
   "source": []
  },
  {
   "cell_type": "code",
   "execution_count": null,
   "id": "06dc701f-2bdd-441c-b9ea-b6a69b9573b6",
   "metadata": {},
   "outputs": [],
   "source": []
  },
  {
   "cell_type": "code",
   "execution_count": null,
   "id": "f4f7ed40-19d0-4af4-8a38-8cdefb4565e7",
   "metadata": {},
   "outputs": [],
   "source": []
  },
  {
   "cell_type": "code",
   "execution_count": null,
   "id": "6940ef7b-b0ab-4641-aaaa-0375c7e46243",
   "metadata": {},
   "outputs": [],
   "source": []
  },
  {
   "cell_type": "code",
   "execution_count": null,
   "id": "405b8fe9-0dfb-4e73-bc8d-0afbcb238a87",
   "metadata": {},
   "outputs": [],
   "source": []
  },
  {
   "cell_type": "code",
   "execution_count": null,
   "id": "06ffbd4c-7b1b-4f08-bf54-ee87a9b1f573",
   "metadata": {},
   "outputs": [],
   "source": []
  },
  {
   "cell_type": "code",
   "execution_count": null,
   "id": "21213952-36be-43dd-8746-2f38b0d9a3a8",
   "metadata": {},
   "outputs": [],
   "source": []
  },
  {
   "cell_type": "code",
   "execution_count": null,
   "id": "4ee91026-9f88-4ea3-b6e9-c05a565670c4",
   "metadata": {},
   "outputs": [],
   "source": []
  },
  {
   "cell_type": "code",
   "execution_count": null,
   "id": "a315dacc-b2cc-4a2a-b8be-8b23364b5b51",
   "metadata": {},
   "outputs": [],
   "source": []
  },
  {
   "cell_type": "code",
   "execution_count": null,
   "id": "7db83873-00c6-4c2b-8db5-041ac55bcafc",
   "metadata": {},
   "outputs": [],
   "source": []
  }
 ],
 "metadata": {
  "kernelspec": {
   "display_name": "Python 3 (ipykernel)",
   "language": "python",
   "name": "python3"
  },
  "language_info": {
   "codemirror_mode": {
    "name": "ipython",
    "version": 3
   },
   "file_extension": ".py",
   "mimetype": "text/x-python",
   "name": "python",
   "nbconvert_exporter": "python",
   "pygments_lexer": "ipython3",
   "version": "3.13.5"
  }
 },
 "nbformat": 4,
 "nbformat_minor": 5
}
